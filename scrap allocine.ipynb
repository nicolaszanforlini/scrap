{
 "cells": [
  {
   "cell_type": "code",
   "execution_count": 148,
   "metadata": {},
   "outputs": [],
   "source": [
    "import re\n",
    "import bs4\n",
    "import requests\n",
    "from bs4 import BeautifulSoup\n",
    "import pandas as pd"
   ]
  },
  {
   "cell_type": "code",
   "execution_count": 2,
   "metadata": {},
   "outputs": [
    {
     "name": "stdout",
     "output_type": "stream",
     "text": [
      "http://www.allocine.fr/film/agenda/mois/mois-2019-05/ 200\n"
     ]
    }
   ],
   "source": [
    "# j'aimerais connaître l_ensemble des détails des sorties de films en mai 2019 \n",
    "\n",
    "url='http://www.allocine.fr/film/agenda/mois/mois-2019-05/'\n",
    "r = requests.get(url)\n",
    "print(url, r.status_code)\n",
    "soup = BeautifulSoup(r.content,'html')"
   ]
  },
  {
   "cell_type": "code",
   "execution_count": 3,
   "metadata": {},
   "outputs": [],
   "source": [
    "# récupération des liens de chaque films sortie au mois de mai 2019 et des titres\n",
    "\n",
    "title=[]\n",
    "lien_film=[]\n",
    "for elem in soup.find_all('div',attrs={'class':\"col-left\"}):\n",
    "    for el in elem('a'):\n",
    "        lien_film.append('http://www.allocine.fr'+el.get('href'))\n",
    "        title.append(el.text)"
   ]
  },
  {
   "cell_type": "code",
   "execution_count": 4,
   "metadata": {},
   "outputs": [
    {
     "data": {
      "text/plain": [
       "98"
      ]
     },
     "execution_count": 4,
     "metadata": {},
     "output_type": "execute_result"
    }
   ],
   "source": [
    "# verification de la taille de ma liste de liens\n",
    "\n",
    "len(lien_film)"
   ]
  },
  {
   "cell_type": "code",
   "execution_count": 5,
   "metadata": {},
   "outputs": [
    {
     "data": {
      "text/plain": [
       "98"
      ]
     },
     "execution_count": 5,
     "metadata": {},
     "output_type": "execute_result"
    }
   ],
   "source": [
    "# verification de le taille de ma liste de titres\n",
    "\n",
    "len(title)"
   ]
  },
  {
   "cell_type": "code",
   "execution_count": 146,
   "metadata": {
    "collapsed": true
   },
   "outputs": [
    {
     "name": "stdout",
     "output_type": "stream",
     "text": [
      "http://www.allocine.fr/film/fichefilm_gen_cfilm=261787.html 200\n",
      "http://www.allocine.fr/film/fichefilm_gen_cfilm=256326.html 200\n",
      "http://www.allocine.fr/film/fichefilm_gen_cfilm=249566.html 200\n",
      "http://www.allocine.fr/film/fichefilm_gen_cfilm=271000.html 200\n",
      "http://www.allocine.fr/film/fichefilm_gen_cfilm=265395.html 200\n",
      "http://www.allocine.fr/film/fichefilm_gen_cfilm=252204.html 200\n",
      "http://www.allocine.fr/film/fichefilm_gen_cfilm=265947.html 200\n",
      "http://www.allocine.fr/film/fichefilm_gen_cfilm=269799.html 200\n",
      "http://www.allocine.fr/film/fichefilm_gen_cfilm=267327.html 200\n",
      "http://www.allocine.fr/film/fichefilm_gen_cfilm=252205.html 200\n",
      "http://www.allocine.fr/film/fichefilm_gen_cfilm=264920.html 200\n",
      "http://www.allocine.fr/film/fichefilm_gen_cfilm=255842.html 200\n",
      "http://www.allocine.fr/film/fichefilm_gen_cfilm=2861.html 200\n",
      "http://www.allocine.fr/film/fichefilm_gen_cfilm=259474.html 200\n",
      "http://www.allocine.fr/film/fichefilm_gen_cfilm=273447.html 200\n",
      "http://www.allocine.fr/film/fichefilm_gen_cfilm=6125.html 200\n",
      "http://www.allocine.fr/film/fichefilm_gen_cfilm=47669.html 200\n",
      "http://www.allocine.fr/film/fichefilm_gen_cfilm=272062.html 200\n",
      "http://www.allocine.fr/film/fichefilm_gen_cfilm=243816.html 200\n",
      "http://www.allocine.fr/film/fichefilm_gen_cfilm=268214.html 200\n",
      "http://www.allocine.fr/film/fichefilm_gen_cfilm=272762.html 200\n",
      "http://www.allocine.fr/film/fichefilm_gen_cfilm=248825.html 200\n",
      "http://www.allocine.fr/film/fichefilm_gen_cfilm=268351.html 200\n",
      "http://www.allocine.fr/film/fichefilm_gen_cfilm=261593.html 200\n",
      "http://www.allocine.fr/film/fichefilm_gen_cfilm=256092.html 200\n",
      "http://www.allocine.fr/film/fichefilm_gen_cfilm=260402.html 200\n",
      "http://www.allocine.fr/film/fichefilm_gen_cfilm=264229.html 200\n",
      "http://www.allocine.fr/film/fichefilm_gen_cfilm=256774.html 200\n",
      "http://www.allocine.fr/film/fichefilm_gen_cfilm=246398.html 200\n",
      "http://www.allocine.fr/film/fichefilm_gen_cfilm=265079.html 200\n",
      "http://www.allocine.fr/film/fichefilm_gen_cfilm=263706.html 200\n",
      "http://www.allocine.fr/film/fichefilm_gen_cfilm=270033.html 200\n",
      "http://www.allocine.fr/film/fichefilm_gen_cfilm=258435.html 200\n",
      "http://www.allocine.fr/film/fichefilm_gen_cfilm=263844.html 200\n",
      "http://www.allocine.fr/film/fichefilm_gen_cfilm=259388.html 200\n",
      "http://www.allocine.fr/film/fichefilm_gen_cfilm=406.html 200\n",
      "http://www.allocine.fr/film/fichefilm_gen_cfilm=259012.html 200\n",
      "http://www.allocine.fr/film/fichefilm_gen_cfilm=258693.html 200\n",
      "http://www.allocine.fr/film/fichefilm_gen_cfilm=270996.html 200\n",
      "http://www.allocine.fr/film/fichefilm_gen_cfilm=11316.html 200\n",
      "http://www.allocine.fr/film/fichefilm_gen_cfilm=18561.html 200\n",
      "http://www.allocine.fr/film/fichefilm_gen_cfilm=272425.html 200\n",
      "http://www.allocine.fr/film/fichefilm_gen_cfilm=261919.html 200\n",
      "http://www.allocine.fr/film/fichefilm_gen_cfilm=269586.html 200\n",
      "http://www.allocine.fr/film/fichefilm_gen_cfilm=273916.html 200\n",
      "http://www.allocine.fr/film/fichefilm_gen_cfilm=263356.html 200\n",
      "http://www.allocine.fr/film/fichefilm_gen_cfilm=266163.html 200\n",
      "http://www.allocine.fr/film/fichefilm_gen_cfilm=254187.html 200\n",
      "http://www.allocine.fr/film/fichefilm_gen_cfilm=244439.html 200\n",
      "http://www.allocine.fr/film/fichefilm_gen_cfilm=273320.html 200\n",
      "http://www.allocine.fr/film/fichefilm_gen_cfilm=259010.html 200\n",
      "http://www.allocine.fr/film/fichefilm_gen_cfilm=21189.html 200\n",
      "http://www.allocine.fr/film/fichefilm_gen_cfilm=263259.html 200\n",
      "http://www.allocine.fr/film/fichefilm_gen_cfilm=265691.html 200\n",
      "http://www.allocine.fr/film/fichefilm_gen_cfilm=1540.html 200\n",
      "http://www.allocine.fr/film/fichefilm_gen_cfilm=97129.html 200\n",
      "http://www.allocine.fr/film/fichefilm_gen_cfilm=261810.html 200\n",
      "http://www.allocine.fr/film/fichefilm_gen_cfilm=262149.html 200\n",
      "http://www.allocine.fr/film/fichefilm_gen_cfilm=262910.html 200\n",
      "http://www.allocine.fr/film/fichefilm_gen_cfilm=273290.html 200\n",
      "http://www.allocine.fr/film/fichefilm_gen_cfilm=272706.html 200\n",
      "http://www.allocine.fr/film/fichefilm_gen_cfilm=265460.html 200\n",
      "http://www.allocine.fr/film/fichefilm_gen_cfilm=263637.html 200\n",
      "http://www.allocine.fr/film/fichefilm_gen_cfilm=264147.html 200\n",
      "http://www.allocine.fr/film/fichefilm_gen_cfilm=273485.html 200\n",
      "http://www.allocine.fr/film/fichefilm_gen_cfilm=270471.html 200\n",
      "http://www.allocine.fr/film/fichefilm_gen_cfilm=273246.html 200\n",
      "http://www.allocine.fr/film/fichefilm_gen_cfilm=263267.html 200\n",
      "http://www.allocine.fr/film/fichefilm_gen_cfilm=262389.html 200\n",
      "http://www.allocine.fr/film/fichefilm_gen_cfilm=250865.html 200\n",
      "http://www.allocine.fr/film/fichefilm_gen_cfilm=250861.html 200\n",
      "http://www.allocine.fr/film/fichefilm_gen_cfilm=268175.html 200\n",
      "http://www.allocine.fr/film/fichefilm_gen_cfilm=249444.html 200\n",
      "http://www.allocine.fr/film/fichefilm_gen_cfilm=262688.html 200\n",
      "http://www.allocine.fr/film/fichefilm_gen_cfilm=253104.html 200\n",
      "http://www.allocine.fr/film/fichefilm_gen_cfilm=257153.html 200\n",
      "http://www.allocine.fr/film/fichefilm_gen_cfilm=863.html 200\n",
      "http://www.allocine.fr/film/fichefilm_gen_cfilm=1334.html 200\n",
      "http://www.allocine.fr/film/fichefilm_gen_cfilm=38518.html 200\n",
      "http://www.allocine.fr/film/fichefilm_gen_cfilm=273954.html 200\n",
      "http://www.allocine.fr/film/fichefilm_gen_cfilm=38314.html 200\n",
      "http://www.allocine.fr/film/fichefilm_gen_cfilm=272703.html 200\n",
      "http://www.allocine.fr/film/fichefilm_gen_cfilm=265026.html 200\n",
      "http://www.allocine.fr/film/fichefilm_gen_cfilm=263900.html 200\n",
      "http://www.allocine.fr/film/fichefilm_gen_cfilm=273394.html 200\n",
      "http://www.allocine.fr/film/fichefilm_gen_cfilm=197810.html 200\n",
      "http://www.allocine.fr/film/fichefilm_gen_cfilm=228997.html 200\n",
      "http://www.allocine.fr/film/fichefilm_gen_cfilm=241649.html 200\n",
      "http://www.allocine.fr/film/fichefilm_gen_cfilm=263125.html 200\n",
      "http://www.allocine.fr/film/fichefilm_gen_cfilm=262853.html 200\n",
      "http://www.allocine.fr/film/fichefilm_gen_cfilm=272704.html 200\n",
      "http://www.allocine.fr/film/fichefilm_gen_cfilm=265848.html 200\n",
      "http://www.allocine.fr/film/fichefilm_gen_cfilm=271670.html 200\n",
      "http://www.allocine.fr/film/fichefilm_gen_cfilm=19399.html 200\n",
      "http://www.allocine.fr/film/fichefilm_gen_cfilm=170.html 200\n",
      "http://www.allocine.fr/film/fichefilm_gen_cfilm=54227.html 200\n",
      "http://www.allocine.fr/film/fichefilm_gen_cfilm=273486.html 200\n",
      "http://www.allocine.fr/film/fichefilm_gen_cfilm=274566.html 200\n"
     ]
    }
   ],
   "source": [
    "# je recupere les informations que je souhaite\n",
    "\n",
    "sortie = []\n",
    "realisateur = []\n",
    "nationalite = []\n",
    "genre = []\n",
    "duree = []\n",
    "acteur = []\n",
    "\n",
    "for ele in lien_film:\n",
    "    url = ele\n",
    "    r = requests.get(url)\n",
    "    print(url, r.status_code)\n",
    "    soup = BeautifulSoup(r.content,'html')\n",
    "    act_tmp = []\n",
    "    for elem in soup.find_all('div',attrs={'class':\"meta-body-item\"}):\n",
    "        act_tmp.append(elem.text)\n",
    "    try:\n",
    "        try:\n",
    "            ind_plus=act_tmp[2].split('\\n').index(' plus ')\n",
    "            acteur.append(act_tmp[2].replace(',','').replace('                            ',\n",
    "                                                             '').split('\\n')[2:ind_plus])\n",
    "        except:\n",
    "            ind_avec = act_tmp[1].split('\\n').index('Avec')\n",
    "            acteur.append(act_tmp[1].split('\\n')[ind_avec+1])\n",
    "    except:\n",
    "        try:\n",
    "            ind_avec = act_tmp[2].split('\\n').index('Avec')\n",
    "            acteur.append(act_tmp[2].split('\\n')[ind_avec+1])\n",
    "        except:\n",
    "            ind_plus=act_tmp[3].split('\\n').index(' plus ')\n",
    "            acteur.append(act_tmp[3].replace(',','').replace('                            ',\n",
    "                                                             '').split('\\n')[2:ind_plus])\n",
    "    tmp=[]\n",
    "    for elem in soup.find_all('div',attrs={'class':\"meta-body\"}):\n",
    "        tmp.append(elem.text.strip())\n",
    "    soup = tmp[0]\n",
    "    \n",
    "    try:\n",
    "        realisateur.append(soup.split('De')[1].split('\\n')[1])\n",
    "    except:\n",
    "        realisateur.append('---')\n",
    "    try:\n",
    "        duree.append(soup.split('(')[1].split(')')[0])\n",
    "    except:\n",
    "        duree.append('---')\n",
    "    \n",
    "    soup_tmp = soup.split('\\n')\n",
    "    \n",
    "    for elem in soup_tmp:\n",
    "        try:\n",
    "            if 'Genre' in elem.strip():\n",
    "                ind = soup_tmp.index('Genre')\n",
    "                genre.append(soup_tmp[ind+1])\n",
    "        except:\n",
    "            ind = soup_tmp.index('Genres')\n",
    "            genre.append(soup_tmp[ind+1]+soup_tmp[ind+2].strip())\n",
    "        try:\n",
    "            if 'Nationalité' in elem.strip():\n",
    "                ind = soup_tmp.index('Nationalité')\n",
    "                nationalite.append(soup_tmp[ind+1])\n",
    "        except:\n",
    "            ind = soup_tmp.index('Nationalités')\n",
    "            nationalite.append(soup_tmp[ind+1]+soup_tmp[ind+2].strip())\n",
    "        try:\n",
    "            if 'Date de sortie' in elem.strip():\n",
    "                ind = soup_tmp.index('Date de sortie')\n",
    "                sortie.append(soup_tmp[ind+1])\n",
    "        except:\n",
    "            sortie.append('---')"
   ]
  },
  {
   "cell_type": "code",
   "execution_count": null,
   "metadata": {},
   "outputs": [],
   "source": [
    "# verification de la longueur de toutes mes listes"
   ]
  },
  {
   "cell_type": "code",
   "execution_count": 59,
   "metadata": {},
   "outputs": [
    {
     "data": {
      "text/plain": [
       "98"
      ]
     },
     "execution_count": 59,
     "metadata": {},
     "output_type": "execute_result"
    }
   ],
   "source": [
    "len(title)"
   ]
  },
  {
   "cell_type": "code",
   "execution_count": 60,
   "metadata": {},
   "outputs": [
    {
     "data": {
      "text/plain": [
       "98"
      ]
     },
     "execution_count": 60,
     "metadata": {},
     "output_type": "execute_result"
    }
   ],
   "source": [
    "len(sortie)"
   ]
  },
  {
   "cell_type": "code",
   "execution_count": 61,
   "metadata": {},
   "outputs": [
    {
     "data": {
      "text/plain": [
       "98"
      ]
     },
     "execution_count": 61,
     "metadata": {},
     "output_type": "execute_result"
    }
   ],
   "source": [
    "len(nationalite)"
   ]
  },
  {
   "cell_type": "code",
   "execution_count": 62,
   "metadata": {},
   "outputs": [
    {
     "data": {
      "text/plain": [
       "98"
      ]
     },
     "execution_count": 62,
     "metadata": {},
     "output_type": "execute_result"
    }
   ],
   "source": [
    "len(genre)"
   ]
  },
  {
   "cell_type": "code",
   "execution_count": 63,
   "metadata": {},
   "outputs": [
    {
     "data": {
      "text/plain": [
       "98"
      ]
     },
     "execution_count": 63,
     "metadata": {},
     "output_type": "execute_result"
    }
   ],
   "source": [
    "len(realisateur)"
   ]
  },
  {
   "cell_type": "code",
   "execution_count": 64,
   "metadata": {},
   "outputs": [
    {
     "data": {
      "text/plain": [
       "98"
      ]
     },
     "execution_count": 64,
     "metadata": {},
     "output_type": "execute_result"
    }
   ],
   "source": [
    "len(duree)"
   ]
  },
  {
   "cell_type": "code",
   "execution_count": 147,
   "metadata": {},
   "outputs": [
    {
     "data": {
      "text/plain": [
       "98"
      ]
     },
     "execution_count": 147,
     "metadata": {},
     "output_type": "execute_result"
    }
   ],
   "source": [
    "len(acteur)"
   ]
  },
  {
   "cell_type": "code",
   "execution_count": null,
   "metadata": {},
   "outputs": [],
   "source": [
    "# j'en fais une dataframe puis un fichier csv"
   ]
  },
  {
   "cell_type": "code",
   "execution_count": 159,
   "metadata": {},
   "outputs": [],
   "source": [
    "df = pd.DataFrame({'titre':title,'sortie':sortie,'genre':genre,'nationalité':nationalite,'réalisateur':realisateur,\n",
    "                  'acteurs / actrices':acteur,'durée':duree})"
   ]
  },
  {
   "cell_type": "code",
   "execution_count": 160,
   "metadata": {},
   "outputs": [
    {
     "data": {
      "text/html": [
       "<div>\n",
       "<style scoped>\n",
       "    .dataframe tbody tr th:only-of-type {\n",
       "        vertical-align: middle;\n",
       "    }\n",
       "\n",
       "    .dataframe tbody tr th {\n",
       "        vertical-align: top;\n",
       "    }\n",
       "\n",
       "    .dataframe thead th {\n",
       "        text-align: right;\n",
       "    }\n",
       "</style>\n",
       "<table border=\"1\" class=\"dataframe\">\n",
       "  <thead>\n",
       "    <tr style=\"text-align: right;\">\n",
       "      <th></th>\n",
       "      <th>titre</th>\n",
       "      <th>sortie</th>\n",
       "      <th>genre</th>\n",
       "      <th>nationalité</th>\n",
       "      <th>réalisateur</th>\n",
       "      <th>acteurs / actrices</th>\n",
       "      <th>durée</th>\n",
       "    </tr>\n",
       "  </thead>\n",
       "  <tbody>\n",
       "    <tr>\n",
       "      <th>0</th>\n",
       "      <td>Nous Finirons Ensemble</td>\n",
       "      <td>1 mai 2019</td>\n",
       "      <td>Comédie dramatique</td>\n",
       "      <td>français</td>\n",
       "      <td>Guillaume Canet</td>\n",
       "      <td>[François Cluzet, Marion Cotillard, Gilles Lel...</td>\n",
       "      <td>2h 15min</td>\n",
       "    </tr>\n",
       "    <tr>\n",
       "      <th>1</th>\n",
       "      <td>Gloria Bell</td>\n",
       "      <td>1 mai 2019</td>\n",
       "      <td>Romance,Comédie dramatique</td>\n",
       "      <td>américain</td>\n",
       "      <td>Sebastián Lelio</td>\n",
       "      <td>[Julianne Moore, John Turturro, Caren Pistorius]</td>\n",
       "      <td>1h 41min</td>\n",
       "    </tr>\n",
       "    <tr>\n",
       "      <th>2</th>\n",
       "      <td>Coeurs ennemis</td>\n",
       "      <td>1 mai 2019</td>\n",
       "      <td>Drame,Romance</td>\n",
       "      <td>britannique</td>\n",
       "      <td>James Kent</td>\n",
       "      <td>[Keira Knightley, Jason Clarke, Alexander Skar...</td>\n",
       "      <td>1h 48min</td>\n",
       "    </tr>\n",
       "    <tr>\n",
       "      <th>3</th>\n",
       "      <td>Dieu existe, son nom est Petrunya</td>\n",
       "      <td>1 mai 2019</td>\n",
       "      <td>Drame,Comédie dramatique</td>\n",
       "      <td>macédonien,belge,</td>\n",
       "      <td>Teona Strugar Mitevska</td>\n",
       "      <td>[Zorica Nusheva, Labina Mitevska, Simeon Moni ...</td>\n",
       "      <td>1h 40min</td>\n",
       "    </tr>\n",
       "    <tr>\n",
       "      <th>4</th>\n",
       "      <td>Amir et Mina : Les aventures du tapis volant</td>\n",
       "      <td>1 mai 2019</td>\n",
       "      <td>Animation,Famille</td>\n",
       "      <td>danois</td>\n",
       "      <td>Karsten Kiilerich</td>\n",
       "      <td>[Bruno Borsu, Nancy Philippot, Michel Hinderyckx]</td>\n",
       "      <td>1h 21min</td>\n",
       "    </tr>\n",
       "  </tbody>\n",
       "</table>\n",
       "</div>"
      ],
      "text/plain": [
       "                                          titre      sortie  \\\n",
       "0                        Nous Finirons Ensemble  1 mai 2019   \n",
       "1                                   Gloria Bell  1 mai 2019   \n",
       "2                                Coeurs ennemis  1 mai 2019   \n",
       "3             Dieu existe, son nom est Petrunya  1 mai 2019   \n",
       "4  Amir et Mina : Les aventures du tapis volant  1 mai 2019   \n",
       "\n",
       "                        genre         nationalité             réalisateur  \\\n",
       "0          Comédie dramatique            français         Guillaume Canet   \n",
       "1  Romance,Comédie dramatique           américain         Sebastián Lelio   \n",
       "2               Drame,Romance         britannique              James Kent   \n",
       "3    Drame,Comédie dramatique   macédonien,belge,  Teona Strugar Mitevska   \n",
       "4           Animation,Famille              danois       Karsten Kiilerich   \n",
       "\n",
       "                                  acteurs / actrices     durée  \n",
       "0  [François Cluzet, Marion Cotillard, Gilles Lel...  2h 15min  \n",
       "1   [Julianne Moore, John Turturro, Caren Pistorius]  1h 41min  \n",
       "2  [Keira Knightley, Jason Clarke, Alexander Skar...  1h 48min  \n",
       "3  [Zorica Nusheva, Labina Mitevska, Simeon Moni ...  1h 40min  \n",
       "4  [Bruno Borsu, Nancy Philippot, Michel Hinderyckx]  1h 21min  "
      ]
     },
     "execution_count": 160,
     "metadata": {},
     "output_type": "execute_result"
    }
   ],
   "source": [
    "df.head()"
   ]
  },
  {
   "cell_type": "code",
   "execution_count": 164,
   "metadata": {},
   "outputs": [],
   "source": [
    "df.to_csv('scrap_allocine.csv',sep=',')"
   ]
  },
  {
   "cell_type": "code",
   "execution_count": null,
   "metadata": {},
   "outputs": [],
   "source": []
  },
  {
   "cell_type": "code",
   "execution_count": null,
   "metadata": {},
   "outputs": [],
   "source": []
  }
 ],
 "metadata": {
  "kernelspec": {
   "display_name": "Python 3",
   "language": "python",
   "name": "python3"
  },
  "language_info": {
   "codemirror_mode": {
    "name": "ipython",
    "version": 3
   },
   "file_extension": ".py",
   "mimetype": "text/x-python",
   "name": "python",
   "nbconvert_exporter": "python",
   "pygments_lexer": "ipython3",
   "version": "3.7.2"
  }
 },
 "nbformat": 4,
 "nbformat_minor": 2
}
