{
 "cells": [
  {
   "cell_type": "code",
   "execution_count": 37,
   "metadata": {},
   "outputs": [],
   "source": [
    "# import\n",
    "\n",
    "from bs4 import BeautifulSoup\n",
    "import requests\n",
    "import pandas as pd"
   ]
  },
  {
   "cell_type": "code",
   "execution_count": 38,
   "metadata": {},
   "outputs": [
    {
     "name": "stdout",
     "output_type": "stream",
     "text": [
      "https://www.lachainemeteo.com/meteo-france/previsions-meteo-france-aujourdhui 200\n"
     ]
    }
   ],
   "source": [
    "# requête sur la page web, vérification du traitement de la requête : 200 = 'succes de la requête'\n",
    "\n",
    "url='https://www.lachainemeteo.com/meteo-france/previsions-meteo-france-aujourdhui'\n",
    "r = requests.get(url)\n",
    "print(url, r.status_code)\n",
    "soup = BeautifulSoup(r.content,'html')"
   ]
  },
  {
   "cell_type": "code",
   "execution_count": 39,
   "metadata": {},
   "outputs": [
    {
     "name": "stdout",
     "output_type": "stream",
     "text": [
      "mar\n",
      "mer\n",
      "jeu\n",
      "ven\n",
      "sam\n",
      "dim\n",
      "lun\n",
      "mar\n",
      "mer\n",
      "jeu\n",
      "ven\n",
      "sam\n",
      "dim\n",
      "lun\n",
      "mar\n"
     ]
    }
   ],
   "source": [
    "# récupération des jours de la semaine\n",
    "\n",
    "day = []\n",
    "for elem in soup.find_all('ol'):\n",
    "    for el in elem('li',attrs={'class':'day'}):\n",
    "        print(el('abbr')[0].text)\n",
    "        day.append(el('abbr')[0].text)"
   ]
  },
  {
   "cell_type": "code",
   "execution_count": 40,
   "metadata": {},
   "outputs": [
    {
     "name": "stdout",
     "output_type": "stream",
     "text": [
      "mar 25 mai\n",
      "mer 26 mai\n",
      "jeu 27 mai\n",
      "ven 28 mai\n",
      "sam 29 mai\n",
      "dim 30 mai\n",
      "lun 31 mai\n",
      "mar 1 juin\n",
      "mer 2 juin\n",
      "jeu 3 juin\n",
      "ven 4 juin\n",
      "sam 5 juin\n",
      "dim 6 juin\n",
      "lun 7 juin\n",
      "mar 8 juin\n"
     ]
    }
   ],
   "source": [
    "_tmp =[]\n",
    "for elem in tmp:\n",
    "    print(elem.replace(\"\\n\", \" \").replace(\"   \",\"\").replace(\"  \",\"\"))\n",
    "    _tmp.append(elem.replace(\"\\n\", \" \").replace(\"   \",\"\").replace(\"  \",\"\"))"
   ]
  },
  {
   "cell_type": "code",
   "execution_count": 41,
   "metadata": {},
   "outputs": [
    {
     "data": {
      "text/plain": [
       "15"
      ]
     },
     "execution_count": 41,
     "metadata": {},
     "output_type": "execute_result"
    }
   ],
   "source": [
    "# vérification de la taille de la liste\n",
    "\n",
    "len(day)"
   ]
  },
  {
   "cell_type": "code",
   "execution_count": 42,
   "metadata": {},
   "outputs": [
    {
     "name": "stdout",
     "output_type": "stream",
     "text": [
      "25\n",
      "26\n",
      "27\n",
      "28\n",
      "29\n",
      "30\n",
      "31\n",
      "1\n",
      "2\n",
      "3\n",
      "4\n",
      "5\n",
      "6\n",
      "7\n",
      "8\n"
     ]
    }
   ],
   "source": [
    "# récupération du numéro des jours de la semaine\n",
    "\n",
    "numDay = []\n",
    "for elem in soup.find_all('ol'):\n",
    "    for el in elem('div',attrs={'class':'numDay'}):\n",
    "        print(el.text)\n",
    "        numDay.append(el.text)"
   ]
  },
  {
   "cell_type": "code",
   "execution_count": 43,
   "metadata": {},
   "outputs": [
    {
     "data": {
      "text/plain": [
       "15"
      ]
     },
     "execution_count": 43,
     "metadata": {},
     "output_type": "execute_result"
    }
   ],
   "source": [
    "# vérification de la taille de la liste\n",
    "\n",
    "len(numDay)"
   ]
  },
  {
   "cell_type": "code",
   "execution_count": 44,
   "metadata": {},
   "outputs": [
    {
     "name": "stdout",
     "output_type": "stream",
     "text": [
      "mai\n",
      "mai\n",
      "mai\n",
      "mai\n",
      "mai\n",
      "mai\n",
      "mai\n",
      "juin\n",
      "juin\n",
      "juin\n",
      "juin\n",
      "juin\n",
      "juin\n",
      "juin\n",
      "juin\n"
     ]
    }
   ],
   "source": [
    "# # récupération du ou des mois suivant la semaine en cours\n",
    "\n",
    "nameMonth = []\n",
    "for elem in soup.find_all('ol'):\n",
    "    for el in elem('div',attrs={'class':'nameMonth'}):\n",
    "        print(el.text)\n",
    "        nameMonth.append(el.text)"
   ]
  },
  {
   "cell_type": "code",
   "execution_count": 45,
   "metadata": {},
   "outputs": [
    {
     "data": {
      "text/plain": [
       "15"
      ]
     },
     "execution_count": 45,
     "metadata": {},
     "output_type": "execute_result"
    }
   ],
   "source": [
    "# vérification de la taille de la liste\n",
    "\n",
    "len(nameMonth)"
   ]
  },
  {
   "cell_type": "code",
   "execution_count": 46,
   "metadata": {},
   "outputs": [
    {
     "name": "stdout",
     "output_type": "stream",
     "text": [
      "mar 25 mai\n",
      "mer 26 mai\n",
      "jeu 27 mai\n",
      "ven 28 mai\n",
      "sam 29 mai\n",
      "dim 30 mai\n",
      "lun 31 mai\n",
      "mar 1 juin\n",
      "mer 2 juin\n",
      "jeu 3 juin\n",
      "ven 4 juin\n",
      "sam 5 juin\n",
      "dim 6 juin\n",
      "lun 7 juin\n",
      "mar 8 juin\n"
     ]
    }
   ],
   "source": [
    "# optionnel : création d'une liste avec les éléments précédemment récupérés \"mot technique : concaténation\"\n",
    "\n",
    "liste_final = []\n",
    "i=0\n",
    "while(i<len(day)):\n",
    "    print(day[i],numDay[i],nameMonth[i])\n",
    "    liste_final.append(day[i]+\" \"+numDay[i]+\" \"+nameMonth[i])\n",
    "    i+=1"
   ]
  },
  {
   "cell_type": "code",
   "execution_count": 47,
   "metadata": {},
   "outputs": [
    {
     "data": {
      "text/plain": [
       "15"
      ]
     },
     "execution_count": 47,
     "metadata": {},
     "output_type": "execute_result"
    }
   ],
   "source": [
    "# vérification de cette nouvelle liste d'éléments concaténés\n",
    "\n",
    "len(liste_final)"
   ]
  },
  {
   "cell_type": "code",
   "execution_count": 48,
   "metadata": {},
   "outputs": [],
   "source": [
    "# récupération des liens url des jours de la semaine\n",
    "# pour la récupération du descriptif du temps de chaque jour\n",
    "\n",
    "tmp=[]\n",
    "for elem in soup.find_all('nav',attrs={'id':'bar'}):\n",
    "    tmp.append(elem('a'))\n",
    "_tmp = tmp[0]"
   ]
  },
  {
   "cell_type": "code",
   "execution_count": 49,
   "metadata": {},
   "outputs": [
    {
     "data": {
      "text/plain": [
       "['https://www.lachainemeteo.com/meteo-france/previsions-meteo-france-aujourdhui',\n",
       " 'https://www.lachainemeteo.com/meteo-france/previsions-meteo-france-demain',\n",
       " 'https://www.lachainemeteo.com/meteo-france/previsions-meteo-france-jeudi',\n",
       " 'https://www.lachainemeteo.com/meteo-france/previsions-meteo-france-vendredi',\n",
       " 'https://www.lachainemeteo.com/meteo-france/previsions-meteo-france-samedi',\n",
       " 'https://www.lachainemeteo.com/meteo-france/previsions-meteo-france-dimanche',\n",
       " 'https://www.lachainemeteo.com/meteo-france/previsions-meteo-france-lundi',\n",
       " 'https://www.lachainemeteo.com/meteo-france/previsions-meteo-france-mardi',\n",
       " 'https://www.lachainemeteo.com/meteo-france/previsions-meteo-france-mercredi',\n",
       " 'https://www.lachainemeteo.com/meteo-france/previsions-meteo-france-jeudi-prochain',\n",
       " 'https://www.lachainemeteo.com/meteo-france/previsions-meteo-france-vendredi-prochain',\n",
       " 'https://www.lachainemeteo.com/meteo-france/previsions-meteo-france-samedi-prochain',\n",
       " 'https://www.lachainemeteo.com/meteo-france/previsions-meteo-france-dimanche-prochain',\n",
       " 'https://www.lachainemeteo.com/meteo-france/previsions-meteo-france-lundi-prochain',\n",
       " 'https://www.lachainemeteo.com/meteo-france/previsions-meteo-france-mardi-prochain']"
      ]
     },
     "execution_count": 49,
     "metadata": {},
     "output_type": "execute_result"
    }
   ],
   "source": [
    "listeLiens = []\n",
    "for elem in _tmp:\n",
    "    listeLiens.append(elem.get('href'))\n",
    "listeLiens"
   ]
  },
  {
   "cell_type": "code",
   "execution_count": 50,
   "metadata": {},
   "outputs": [
    {
     "data": {
      "text/plain": [
       "15"
      ]
     },
     "execution_count": 50,
     "metadata": {},
     "output_type": "execute_result"
    }
   ],
   "source": [
    "# vérification de la taille de la liste\n",
    "\n",
    "len(listeLiens)"
   ]
  },
  {
   "cell_type": "code",
   "execution_count": 51,
   "metadata": {
    "scrolled": true
   },
   "outputs": [
    {
     "name": "stdout",
     "output_type": "stream",
     "text": [
      "https://www.lachainemeteo.com/meteo-france/previsions-meteo-france-aujourdhui 200\n",
      "Maintien d'un temps instable et frais au nord de la Loire avec des averses, parfois orageuses sur les Hauts-de-France. Le temps est plus calme et sec ailleurs en se dirigeant vers la Méditerranée.\n",
      "https://www.lachainemeteo.com/meteo-france/previsions-meteo-france-demain 200\n",
      "De nouvelles pluies circulent au nord de la Loire jusqu'au Centre-Est, avec un temps automnal. Du bassin aquitain au sud-est, le temps est plus calme et ensoleillé.\n",
      "https://www.lachainemeteo.com/meteo-france/previsions-meteo-france-jeudi 200\n",
      "L'amélioration est progressive. Elle se fait tout d'abord par le retour du soleil sur l'ouest et le sud après dissipation de brumes locales. Un temps encore assez gris et automnal domine encore sur le nord-est et le nord de la Seine avec quelques ondées.\n",
      "https://www.lachainemeteo.com/meteo-france/previsions-meteo-france-vendredi 200\n",
      "Ce pourrait être la journée la plus ensoleillée de la semaine avec un ressenti estival sur la moitié sud. Seul bémol, le risque d'une dégradation orageuse sur les Pyrénées et à un moindre degré sur la montagne alpine et le massif central.\n",
      "https://www.lachainemeteo.com/meteo-france/previsions-meteo-france-samedi 200\n",
      "Si les températures deviennent vraiment estivales sur le sud-ouest et printanières au nord, un doute subsiste sur le risque d'averses l'après-midi lié à l'incertitude sur l'évolution d'une goutte froide présente en altitude sur l'Europe de l'ouest.\n",
      "https://www.lachainemeteo.com/meteo-france/previsions-meteo-france-dimanche 200\n",
      "Les doutes exprimés sur la prévision de la veille restent valables pour cette fin de week-end. L'évolution du temps reste conditionné à celle de la goutte froide en altitude.\n",
      "https://www.lachainemeteo.com/meteo-france/previsions-meteo-france-lundi 200\n",
      "Pour le dernier jour de ce mois de mai, la proximité de la goutte froide sur l'Europe centrale pourrait engendrer un temps contrasté entre le soleil sur l'Ouest et le risque d'averses orageuses sur l'Est.\n",
      "https://www.lachainemeteo.com/meteo-france/previsions-meteo-france-mardi 200\n",
      "Le temps pourrait rester contrasté entre l'Ouest et l'Est, surtout l'après-midi avec un risque d'averses sur l'Est qui s'étendrait en direction de l'Atlantique.\n",
      "https://www.lachainemeteo.com/meteo-france/previsions-meteo-france-mercredi 200\n",
      "Peu d'évolution notable à envisager. Les températures restent estivales et le doute sur le risque d'averses et d'orages persiste.\n",
      "https://www.lachainemeteo.com/meteo-france/previsions-meteo-france-jeudi-prochain 200\n",
      "L'orientation du vent au sud-est pourrait engendrer une chaleur lourde, mais également un risque marqué d'orages..encore difficile à ce jour de localiser.\n",
      "https://www.lachainemeteo.com/meteo-france/previsions-meteo-france-vendredi-prochain 200\n",
      "Si les températures estivales se maintiennent,l'incertitude persiste également quant à un doute sur une possible dégradation sous forme d'averses ou d'orages.\n",
      "https://www.lachainemeteo.com/meteo-france/previsions-meteo-france-samedi-prochain 200\n",
      "La situation ne semble pas trop évoluer, même si le risque d'un temps plus instable ne devrait concerner que la moitié Est..\n",
      "https://www.lachainemeteo.com/meteo-france/previsions-meteo-france-dimanche-prochain 200\n",
      "Poursuite d'un temps possiblement instable, plutôt calme le matin, devenant plus instable l'après-midi avec un risque d'averses plus marqué sur l'Est.\n",
      "https://www.lachainemeteo.com/meteo-france/previsions-meteo-france-lundi-prochain 200\n",
      "La situation de marais barométrique, sans gradient de pression, sera plus favorable aux développements d'averses et éventuellement d'orages de chaleur que les jours précédents...mais cela majoritairement sur les reliefs.\n",
      "https://www.lachainemeteo.com/meteo-france/previsions-meteo-france-mardi-prochain 200\n",
      "Les conditions estivales et  potentiellement instables ne devraient pas trop évoluer.\n"
     ]
    }
   ],
   "source": [
    "# récupération des descriptifs du temps de chaque jours de la semaine \n",
    "# (plus vérification du résultat de la requête effectué sur chaque page)\n",
    "\n",
    "description=[]\n",
    "for lien in listeLiens:\n",
    "    url=lien\n",
    "    r = requests.get(url)\n",
    "    print(url, r.status_code)\n",
    "    soup = BeautifulSoup(r.content,'html')\n",
    "    \n",
    "    for elem in soup.find_all('div',attrs={'id':'weatherSituation'}):\n",
    "        print(elem.text)\n",
    "        description.append(elem.text)"
   ]
  },
  {
   "cell_type": "code",
   "execution_count": 52,
   "metadata": {},
   "outputs": [
    {
     "data": {
      "text/plain": [
       "15"
      ]
     },
     "execution_count": 52,
     "metadata": {},
     "output_type": "execute_result"
    }
   ],
   "source": [
    "# vérification de la taille de la liste\n",
    "\n",
    "len(description)"
   ]
  },
  {
   "cell_type": "code",
   "execution_count": 53,
   "metadata": {},
   "outputs": [
    {
     "name": "stdout",
     "output_type": "stream",
     "text": [
      "mar 25 mai :\n",
      "Maintien d'un temps instable et frais au nord de la Loire avec des averses, parfois orageuses sur les Hauts-de-France. Le temps est plus calme et sec ailleurs en se dirigeant vers la Méditerranée.\n",
      "---------------------------------------------\n",
      "mer 26 mai :\n",
      "De nouvelles pluies circulent au nord de la Loire jusqu'au Centre-Est, avec un temps automnal. Du bassin aquitain au sud-est, le temps est plus calme et ensoleillé.\n",
      "---------------------------------------------\n",
      "jeu 27 mai :\n",
      "L'amélioration est progressive. Elle se fait tout d'abord par le retour du soleil sur l'ouest et le sud après dissipation de brumes locales. Un temps encore assez gris et automnal domine encore sur le nord-est et le nord de la Seine avec quelques ondées.\n",
      "---------------------------------------------\n",
      "ven 28 mai :\n",
      "Ce pourrait être la journée la plus ensoleillée de la semaine avec un ressenti estival sur la moitié sud. Seul bémol, le risque d'une dégradation orageuse sur les Pyrénées et à un moindre degré sur la montagne alpine et le massif central.\n",
      "---------------------------------------------\n",
      "sam 29 mai :\n",
      "Si les températures deviennent vraiment estivales sur le sud-ouest et printanières au nord, un doute subsiste sur le risque d'averses l'après-midi lié à l'incertitude sur l'évolution d'une goutte froide présente en altitude sur l'Europe de l'ouest.\n",
      "---------------------------------------------\n",
      "dim 30 mai :\n",
      "Les doutes exprimés sur la prévision de la veille restent valables pour cette fin de week-end. L'évolution du temps reste conditionné à celle de la goutte froide en altitude.\n",
      "---------------------------------------------\n",
      "lun 31 mai :\n",
      "Pour le dernier jour de ce mois de mai, la proximité de la goutte froide sur l'Europe centrale pourrait engendrer un temps contrasté entre le soleil sur l'Ouest et le risque d'averses orageuses sur l'Est.\n",
      "---------------------------------------------\n",
      "mar 1 juin :\n",
      "Le temps pourrait rester contrasté entre l'Ouest et l'Est, surtout l'après-midi avec un risque d'averses sur l'Est qui s'étendrait en direction de l'Atlantique.\n",
      "---------------------------------------------\n",
      "mer 2 juin :\n",
      "Peu d'évolution notable à envisager. Les températures restent estivales et le doute sur le risque d'averses et d'orages persiste.\n",
      "---------------------------------------------\n",
      "jeu 3 juin :\n",
      "L'orientation du vent au sud-est pourrait engendrer une chaleur lourde, mais également un risque marqué d'orages..encore difficile à ce jour de localiser.\n",
      "---------------------------------------------\n",
      "ven 4 juin :\n",
      "Si les températures estivales se maintiennent,l'incertitude persiste également quant à un doute sur une possible dégradation sous forme d'averses ou d'orages.\n",
      "---------------------------------------------\n",
      "sam 5 juin :\n",
      "La situation ne semble pas trop évoluer, même si le risque d'un temps plus instable ne devrait concerner que la moitié Est..\n",
      "---------------------------------------------\n",
      "dim 6 juin :\n",
      "Poursuite d'un temps possiblement instable, plutôt calme le matin, devenant plus instable l'après-midi avec un risque d'averses plus marqué sur l'Est.\n",
      "---------------------------------------------\n",
      "lun 7 juin :\n",
      "La situation de marais barométrique, sans gradient de pression, sera plus favorable aux développements d'averses et éventuellement d'orages de chaleur que les jours précédents...mais cela majoritairement sur les reliefs.\n",
      "---------------------------------------------\n",
      "mar 8 juin :\n",
      "Les conditions estivales et  potentiellement instables ne devraient pas trop évoluer.\n",
      "---------------------------------------------\n"
     ]
    }
   ],
   "source": [
    "# optionnel : petite vérification avant la création de la dataframe\n",
    "\n",
    "i=0\n",
    "while(i<len(liste_final)):\n",
    "    print(liste_final[i]+\" :\")\n",
    "    print(description[i])\n",
    "    print(\"---------------------------------------------\")\n",
    "    i+=1"
   ]
  },
  {
   "cell_type": "code",
   "execution_count": 54,
   "metadata": {},
   "outputs": [
    {
     "data": {
      "text/html": [
       "<div>\n",
       "<style scoped>\n",
       "    .dataframe tbody tr th:only-of-type {\n",
       "        vertical-align: middle;\n",
       "    }\n",
       "\n",
       "    .dataframe tbody tr th {\n",
       "        vertical-align: top;\n",
       "    }\n",
       "\n",
       "    .dataframe thead th {\n",
       "        text-align: right;\n",
       "    }\n",
       "</style>\n",
       "<table border=\"1\" class=\"dataframe\">\n",
       "  <thead>\n",
       "    <tr style=\"text-align: right;\">\n",
       "      <th></th>\n",
       "      <th>day</th>\n",
       "      <th>date</th>\n",
       "      <th>month</th>\n",
       "      <th>description</th>\n",
       "    </tr>\n",
       "  </thead>\n",
       "  <tbody>\n",
       "    <tr>\n",
       "      <th>0</th>\n",
       "      <td>mar</td>\n",
       "      <td>25</td>\n",
       "      <td>mai</td>\n",
       "      <td>Maintien d'un temps instable et frais au nord ...</td>\n",
       "    </tr>\n",
       "    <tr>\n",
       "      <th>1</th>\n",
       "      <td>mer</td>\n",
       "      <td>26</td>\n",
       "      <td>mai</td>\n",
       "      <td>De nouvelles pluies circulent au nord de la Lo...</td>\n",
       "    </tr>\n",
       "    <tr>\n",
       "      <th>2</th>\n",
       "      <td>jeu</td>\n",
       "      <td>27</td>\n",
       "      <td>mai</td>\n",
       "      <td>L'amélioration est progressive. Elle se fait t...</td>\n",
       "    </tr>\n",
       "    <tr>\n",
       "      <th>3</th>\n",
       "      <td>ven</td>\n",
       "      <td>28</td>\n",
       "      <td>mai</td>\n",
       "      <td>Ce pourrait être la journée la plus ensoleillé...</td>\n",
       "    </tr>\n",
       "    <tr>\n",
       "      <th>4</th>\n",
       "      <td>sam</td>\n",
       "      <td>29</td>\n",
       "      <td>mai</td>\n",
       "      <td>Si les températures deviennent vraiment estiva...</td>\n",
       "    </tr>\n",
       "    <tr>\n",
       "      <th>5</th>\n",
       "      <td>dim</td>\n",
       "      <td>30</td>\n",
       "      <td>mai</td>\n",
       "      <td>Les doutes exprimés sur la prévision de la vei...</td>\n",
       "    </tr>\n",
       "    <tr>\n",
       "      <th>6</th>\n",
       "      <td>lun</td>\n",
       "      <td>31</td>\n",
       "      <td>mai</td>\n",
       "      <td>Pour le dernier jour de ce mois de mai, la pro...</td>\n",
       "    </tr>\n",
       "    <tr>\n",
       "      <th>7</th>\n",
       "      <td>mar</td>\n",
       "      <td>1</td>\n",
       "      <td>juin</td>\n",
       "      <td>Le temps pourrait rester contrasté entre l'Oue...</td>\n",
       "    </tr>\n",
       "    <tr>\n",
       "      <th>8</th>\n",
       "      <td>mer</td>\n",
       "      <td>2</td>\n",
       "      <td>juin</td>\n",
       "      <td>Peu d'évolution notable à envisager. Les tempé...</td>\n",
       "    </tr>\n",
       "    <tr>\n",
       "      <th>9</th>\n",
       "      <td>jeu</td>\n",
       "      <td>3</td>\n",
       "      <td>juin</td>\n",
       "      <td>L'orientation du vent au sud-est pourrait enge...</td>\n",
       "    </tr>\n",
       "    <tr>\n",
       "      <th>10</th>\n",
       "      <td>ven</td>\n",
       "      <td>4</td>\n",
       "      <td>juin</td>\n",
       "      <td>Si les températures estivales se maintiennent,...</td>\n",
       "    </tr>\n",
       "    <tr>\n",
       "      <th>11</th>\n",
       "      <td>sam</td>\n",
       "      <td>5</td>\n",
       "      <td>juin</td>\n",
       "      <td>La situation ne semble pas trop évoluer, même ...</td>\n",
       "    </tr>\n",
       "    <tr>\n",
       "      <th>12</th>\n",
       "      <td>dim</td>\n",
       "      <td>6</td>\n",
       "      <td>juin</td>\n",
       "      <td>Poursuite d'un temps possiblement instable, pl...</td>\n",
       "    </tr>\n",
       "    <tr>\n",
       "      <th>13</th>\n",
       "      <td>lun</td>\n",
       "      <td>7</td>\n",
       "      <td>juin</td>\n",
       "      <td>La situation de marais barométrique, sans grad...</td>\n",
       "    </tr>\n",
       "    <tr>\n",
       "      <th>14</th>\n",
       "      <td>mar</td>\n",
       "      <td>8</td>\n",
       "      <td>juin</td>\n",
       "      <td>Les conditions estivales et  potentiellement i...</td>\n",
       "    </tr>\n",
       "  </tbody>\n",
       "</table>\n",
       "</div>"
      ],
      "text/plain": [
       "    day date month                                        description\n",
       "0   mar   25   mai  Maintien d'un temps instable et frais au nord ...\n",
       "1   mer   26   mai  De nouvelles pluies circulent au nord de la Lo...\n",
       "2   jeu   27   mai  L'amélioration est progressive. Elle se fait t...\n",
       "3   ven   28   mai  Ce pourrait être la journée la plus ensoleillé...\n",
       "4   sam   29   mai  Si les températures deviennent vraiment estiva...\n",
       "5   dim   30   mai  Les doutes exprimés sur la prévision de la vei...\n",
       "6   lun   31   mai  Pour le dernier jour de ce mois de mai, la pro...\n",
       "7   mar    1  juin  Le temps pourrait rester contrasté entre l'Oue...\n",
       "8   mer    2  juin  Peu d'évolution notable à envisager. Les tempé...\n",
       "9   jeu    3  juin  L'orientation du vent au sud-est pourrait enge...\n",
       "10  ven    4  juin  Si les températures estivales se maintiennent,...\n",
       "11  sam    5  juin  La situation ne semble pas trop évoluer, même ...\n",
       "12  dim    6  juin  Poursuite d'un temps possiblement instable, pl...\n",
       "13  lun    7  juin  La situation de marais barométrique, sans grad...\n",
       "14  mar    8  juin  Les conditions estivales et  potentiellement i..."
      ]
     },
     "execution_count": 54,
     "metadata": {},
     "output_type": "execute_result"
    }
   ],
   "source": [
    "# création d'une dataframe avec les éléments récupérés\n",
    "\n",
    "df = pd.DataFrame({'day':day,'date':numDay,'month':nameMonth,\n",
    "                   \"description\":description})\n",
    "df"
   ]
  },
  {
   "cell_type": "code",
   "execution_count": 55,
   "metadata": {},
   "outputs": [],
   "source": [
    "# création d'un fichier csv à partir de la dataframe\n",
    "\n",
    "df.to_csv('prévision_météo_de_la_semaine.csv',sep=',')"
   ]
  },
  {
   "cell_type": "code",
   "execution_count": null,
   "metadata": {},
   "outputs": [],
   "source": []
  }
 ],
 "metadata": {
  "kernelspec": {
   "display_name": "Python 3",
   "language": "python",
   "name": "python3"
  },
  "language_info": {
   "codemirror_mode": {
    "name": "ipython",
    "version": 3
   },
   "file_extension": ".py",
   "mimetype": "text/x-python",
   "name": "python",
   "nbconvert_exporter": "python",
   "pygments_lexer": "ipython3",
   "version": "3.8.5"
  }
 },
 "nbformat": 4,
 "nbformat_minor": 4
}
