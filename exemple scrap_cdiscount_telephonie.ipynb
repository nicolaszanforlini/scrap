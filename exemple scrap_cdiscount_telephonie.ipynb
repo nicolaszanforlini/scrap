{
 "cells": [
  {
   "cell_type": "code",
   "execution_count": 3,
   "metadata": {},
   "outputs": [],
   "source": [
    "import requests\n",
    "from bs4 import BeautifulSoup\n",
    "import pandas as pd\n",
    "import re"
   ]
  },
  {
   "cell_type": "code",
   "execution_count": null,
   "metadata": {},
   "outputs": [],
   "source": [
    "### scrap du site cdiscount téléphonie ###"
   ]
  },
  {
   "cell_type": "code",
   "execution_count": 5,
   "metadata": {},
   "outputs": [
    {
     "name": "stdout",
     "output_type": "stream",
     "text": [
      "https://www.cdiscount.com/telephonie/telephone-mobile/samsung/samsung-galaxy-note-9/l-144042635.html#_his_ 200\n"
     ]
    }
   ],
   "source": [
    "url='https://www.cdiscount.com/telephonie/telephone-mobile/samsung/samsung-galaxy-note-9/l-144042635.html#_his_'\n",
    "r = requests.get(url)\n",
    "print(url, r.status_code)\n",
    "soup = BeautifulSoup(r.content,'html')"
   ]
  },
  {
   "cell_type": "code",
   "execution_count": null,
   "metadata": {},
   "outputs": [],
   "source": [
    "### collecte des données sur téléphones galaxy note 9 : modeles et prix ###"
   ]
  },
  {
   "cell_type": "code",
   "execution_count": 13,
   "metadata": {},
   "outputs": [],
   "source": [
    "prix = []\n",
    "for elem in soup.find_all('span',attrs={'class':'price'}):\n",
    "    prix.append(elem.text.replace('€','.'))\n",
    "model = []\n",
    "for elem in soup.find_all('div',attrs={'class':'prdtBILTit'}):\n",
    "    model.append(elem.text)"
   ]
  },
  {
   "cell_type": "code",
   "execution_count": null,
   "metadata": {},
   "outputs": [],
   "source": [
    "### collecte des données sur les détails de chaque téléphones galaxy note 9 ###"
   ]
  },
  {
   "cell_type": "code",
   "execution_count": 46,
   "metadata": {},
   "outputs": [],
   "source": [
    "tmp = []\n",
    "for elem in soup.find_all('div',attrs={'class':'prdtBILDetails'}):\n",
    "    tmp.append(elem.text)"
   ]
  },
  {
   "cell_type": "code",
   "execution_count": 57,
   "metadata": {},
   "outputs": [],
   "source": [
    "resolution_capteur = []\n",
    "taille_ecran = []\n",
    "capacite_memoire = []\n",
    "regex_taille_ecran = '\\d{1}\\.\\d{1}'\n",
    "regex_capacite_memoire = '\\d{3}\\sGo'\n",
    "regex_res_capteur = '\\d{2}\\s\\w?\\é\\w+'\n",
    "for elem in tmp:\n",
    "    taille_ecran.append(re.findall(regex_taille_ecran,elem))\n",
    "    capacite_memoire.append(set(re.findall(regex_capacite_memoire,elem)))\n",
    "    resolution_capteur.append(re.findall(regex_res_capteur,elem))"
   ]
  },
  {
   "cell_type": "code",
   "execution_count": 69,
   "metadata": {},
   "outputs": [],
   "source": [
    "capteur = []\n",
    "for elem in resolution_capteur:\n",
    "    capteur.append(elem[0])\n",
    "ecran = []\n",
    "for elem in taille_ecran:\n",
    "    ecran.append(elem[0])"
   ]
  },
  {
   "cell_type": "code",
   "execution_count": null,
   "metadata": {},
   "outputs": [],
   "source": [
    "### creation d'une dataframe des données et sauvegarde sur  un csv ###"
   ]
  },
  {
   "cell_type": "code",
   "execution_count": 73,
   "metadata": {},
   "outputs": [
    {
     "data": {
      "text/html": [
       "<div>\n",
       "<style scoped>\n",
       "    .dataframe tbody tr th:only-of-type {\n",
       "        vertical-align: middle;\n",
       "    }\n",
       "\n",
       "    .dataframe tbody tr th {\n",
       "        vertical-align: top;\n",
       "    }\n",
       "\n",
       "    .dataframe thead th {\n",
       "        text-align: right;\n",
       "    }\n",
       "</style>\n",
       "<table border=\"1\" class=\"dataframe\">\n",
       "  <thead>\n",
       "    <tr style=\"text-align: right;\">\n",
       "      <th></th>\n",
       "      <th>models</th>\n",
       "      <th>prix</th>\n",
       "      <th>résolution capteur</th>\n",
       "      <th>taille de l'écran</th>\n",
       "      <th>capacité de mémoire</th>\n",
       "    </tr>\n",
       "  </thead>\n",
       "  <tbody>\n",
       "    <tr>\n",
       "      <th>0</th>\n",
       "      <td>Samsung Galaxy Note9 Noir profond 512 Go</td>\n",
       "      <td>1449.00</td>\n",
       "      <td>12 mégapixels</td>\n",
       "      <td>6.4</td>\n",
       "      <td>{512 Go}</td>\n",
       "    </tr>\n",
       "    <tr>\n",
       "      <th>1</th>\n",
       "      <td>Samsung Galaxy Note9 Bleu Cobalt 128 Go</td>\n",
       "      <td>1009.00</td>\n",
       "      <td>12 mégapixels</td>\n",
       "      <td>6.4</td>\n",
       "      <td>{128 Go}</td>\n",
       "    </tr>\n",
       "    <tr>\n",
       "      <th>2</th>\n",
       "      <td>Samsung Galaxy Note9 Noir profond 128 Go</td>\n",
       "      <td>1009.00</td>\n",
       "      <td>12 mégapixels</td>\n",
       "      <td>6.4</td>\n",
       "      <td>{128 Go}</td>\n",
       "    </tr>\n",
       "    <tr>\n",
       "      <th>3</th>\n",
       "      <td>Samsung Galaxy Note9 Noir profond 512 Go</td>\n",
       "      <td>1449.00</td>\n",
       "      <td>12 mégapixels</td>\n",
       "      <td>6.4</td>\n",
       "      <td>{512 Go}</td>\n",
       "    </tr>\n",
       "    <tr>\n",
       "      <th>4</th>\n",
       "      <td>Samsung Galaxy Note9 Bleu Cobalt 128 Go</td>\n",
       "      <td>1009.00</td>\n",
       "      <td>12 mégapixels</td>\n",
       "      <td>6.4</td>\n",
       "      <td>{128 Go}</td>\n",
       "    </tr>\n",
       "    <tr>\n",
       "      <th>5</th>\n",
       "      <td>Samsung Galaxy Note9 Noir profond 128 Go</td>\n",
       "      <td>1009.00</td>\n",
       "      <td>12 mégapixels</td>\n",
       "      <td>6.4</td>\n",
       "      <td>{128 Go}</td>\n",
       "    </tr>\n",
       "    <tr>\n",
       "      <th>6</th>\n",
       "      <td>Samsung Galaxy Note9 Mauve Orchidée 128 Go</td>\n",
       "      <td>1009.00</td>\n",
       "      <td>12 mégapixels</td>\n",
       "      <td>6.4</td>\n",
       "      <td>{128 Go}</td>\n",
       "    </tr>\n",
       "    <tr>\n",
       "      <th>7</th>\n",
       "      <td>Samsung Galaxy Note9 Noir profond 512 Go + car...</td>\n",
       "      <td>1619.00</td>\n",
       "      <td>12 mégapixels</td>\n",
       "      <td>6.4</td>\n",
       "      <td>{512 Go}</td>\n",
       "    </tr>\n",
       "  </tbody>\n",
       "</table>\n",
       "</div>"
      ],
      "text/plain": [
       "                                              models     prix  \\\n",
       "0           Samsung Galaxy Note9 Noir profond 512 Go  1449.00   \n",
       "1            Samsung Galaxy Note9 Bleu Cobalt 128 Go  1009.00   \n",
       "2           Samsung Galaxy Note9 Noir profond 128 Go  1009.00   \n",
       "3           Samsung Galaxy Note9 Noir profond 512 Go  1449.00   \n",
       "4            Samsung Galaxy Note9 Bleu Cobalt 128 Go  1009.00   \n",
       "5           Samsung Galaxy Note9 Noir profond 128 Go  1009.00   \n",
       "6         Samsung Galaxy Note9 Mauve Orchidée 128 Go  1009.00   \n",
       "7  Samsung Galaxy Note9 Noir profond 512 Go + car...  1619.00   \n",
       "\n",
       "  résolution capteur taille de l'écran capacité de mémoire  \n",
       "0      12 mégapixels               6.4            {512 Go}  \n",
       "1      12 mégapixels               6.4            {128 Go}  \n",
       "2      12 mégapixels               6.4            {128 Go}  \n",
       "3      12 mégapixels               6.4            {512 Go}  \n",
       "4      12 mégapixels               6.4            {128 Go}  \n",
       "5      12 mégapixels               6.4            {128 Go}  \n",
       "6      12 mégapixels               6.4            {128 Go}  \n",
       "7      12 mégapixels               6.4            {512 Go}  "
      ]
     },
     "execution_count": 73,
     "metadata": {},
     "output_type": "execute_result"
    }
   ],
   "source": [
    "df = pd.DataFrame({'models':model,'prix':prix,'résolution capteur':capteur,\n",
    "                   \"taille de l'écran\":ecran,'capacité de mémoire':capacite_memoire})\n",
    "df"
   ]
  },
  {
   "cell_type": "code",
   "execution_count": 74,
   "metadata": {},
   "outputs": [],
   "source": [
    "df.to_csv('samsung_note_s9.csv',sep=',')"
   ]
  },
  {
   "cell_type": "code",
   "execution_count": null,
   "metadata": {},
   "outputs": [],
   "source": [
    "### collecte des données iphone Xs max (les même données que samsung) ###"
   ]
  },
  {
   "cell_type": "code",
   "execution_count": 75,
   "metadata": {},
   "outputs": [
    {
     "name": "stdout",
     "output_type": "stream",
     "text": [
      "https://www.cdiscount.com/telephonie/telephone-mobile/apple/iphone-xs-max/l-144043121.html#_his_ 200\n"
     ]
    }
   ],
   "source": [
    "url='https://www.cdiscount.com/telephonie/telephone-mobile/apple/iphone-xs-max/l-144043121.html#_his_'\n",
    "r = requests.get(url)\n",
    "print(url, r.status_code)\n",
    "soup = BeautifulSoup(r.content,'html')"
   ]
  },
  {
   "cell_type": "code",
   "execution_count": 89,
   "metadata": {},
   "outputs": [],
   "source": [
    "model_iphone = []\n",
    "for elem in soup.find_all('div',attrs={'class':\"prdtBILTit\"}):\n",
    "    model_iphone.append(elem.text)\n",
    "prix_iphone = []\n",
    "for elem in soup.find_all('span',attrs={'class':'price'}):\n",
    "    prix_iphone.append(elem.text.replace('€','.'))"
   ]
  },
  {
   "cell_type": "code",
   "execution_count": 79,
   "metadata": {},
   "outputs": [],
   "source": [
    "tmp_iphone = []\n",
    "for elem in soup.find_all('div',attrs={'class':\"prdtBILDetails\"}):\n",
    "    tmp_iphone.append(elem.text)"
   ]
  },
  {
   "cell_type": "code",
   "execution_count": 121,
   "metadata": {},
   "outputs": [],
   "source": [
    "capacite_memoire_iphone = []\n",
    "resolution_capteur_iphone = []\n",
    "taille_ecran_iphone = []\n",
    "regex_taille_ecran = '\\d{1}\\.\\d{1}'\n",
    "regex_res_capteur = '\\d{2}\\s\\w?\\é\\w+'\n",
    "regex_capacite_memoire_iphone = '\\:\\s\\d{2,3}\\sGo'\n",
    "for elem in tmp_iphone:\n",
    "    taille_ecran_iphone.append(re.findall(regex_taille_ecran,elem))\n",
    "    resolution_capteur_iphone.append(re.findall(regex_res_capteur,elem))\n",
    "    capacite_memoire_iphone.append(re.findall(regex_capacite_memoire_iphone,elem))"
   ]
  },
  {
   "cell_type": "code",
   "execution_count": 130,
   "metadata": {},
   "outputs": [],
   "source": [
    "capteur_i = []\n",
    "for elem in resolution_capteur_iphone:\n",
    "    capteur_i.append(elem[0])\n",
    "ecran_i = []\n",
    "for elem in taille_ecran_iphone:\n",
    "    ecran_i.append(elem[0])\n",
    "memoire_i = []\n",
    "for elem in capacite_memoire_iphone:\n",
    "    memoire_i.append(elem[0])"
   ]
  },
  {
   "cell_type": "code",
   "execution_count": 129,
   "metadata": {},
   "outputs": [
    {
     "data": {
      "text/html": [
       "<div>\n",
       "<style scoped>\n",
       "    .dataframe tbody tr th:only-of-type {\n",
       "        vertical-align: middle;\n",
       "    }\n",
       "\n",
       "    .dataframe tbody tr th {\n",
       "        vertical-align: top;\n",
       "    }\n",
       "\n",
       "    .dataframe thead th {\n",
       "        text-align: right;\n",
       "    }\n",
       "</style>\n",
       "<table border=\"1\" class=\"dataframe\">\n",
       "  <thead>\n",
       "    <tr style=\"text-align: right;\">\n",
       "      <th></th>\n",
       "      <th>models</th>\n",
       "      <th>prix</th>\n",
       "      <th>résolution capteur</th>\n",
       "      <th>taille de l'écran</th>\n",
       "      <th>capacité de mémoire</th>\n",
       "    </tr>\n",
       "  </thead>\n",
       "  <tbody>\n",
       "    <tr>\n",
       "      <th>0</th>\n",
       "      <td>APPLE iPhone Xs Max Argent 512 Go</td>\n",
       "      <td>1509.99</td>\n",
       "      <td>12 mégapixels</td>\n",
       "      <td>6.5</td>\n",
       "      <td>[: 512 Go]</td>\n",
       "    </tr>\n",
       "    <tr>\n",
       "      <th>1</th>\n",
       "      <td>APPLE iPhone Xs Max Argent 256 Go</td>\n",
       "      <td>1419.00</td>\n",
       "      <td>12 mégapixels</td>\n",
       "      <td>6.5</td>\n",
       "      <td>[: 256 Go]</td>\n",
       "    </tr>\n",
       "    <tr>\n",
       "      <th>2</th>\n",
       "      <td>APPLE iPhone Xs Max Gris Sidéral 64 Go</td>\n",
       "      <td>1187.00</td>\n",
       "      <td>12 mégapixels</td>\n",
       "      <td>6.5</td>\n",
       "      <td>[: 64 Go]</td>\n",
       "    </tr>\n",
       "    <tr>\n",
       "      <th>3</th>\n",
       "      <td>APPLE iPhone Xs Max Argent 64 Go</td>\n",
       "      <td>1186.00</td>\n",
       "      <td>12 mégapixels</td>\n",
       "      <td>6.5</td>\n",
       "      <td>[: 64 Go]</td>\n",
       "    </tr>\n",
       "    <tr>\n",
       "      <th>4</th>\n",
       "      <td>APPLE iPhone Xs Max Or 64 Go</td>\n",
       "      <td>1199.00</td>\n",
       "      <td>12 mégapixels</td>\n",
       "      <td>6.5</td>\n",
       "      <td>[: 64 Go]</td>\n",
       "    </tr>\n",
       "    <tr>\n",
       "      <th>5</th>\n",
       "      <td>APPLE iPhone Xs Max Gris Sidéral 256 Go</td>\n",
       "      <td>1121.67</td>\n",
       "      <td>12 mégapixels</td>\n",
       "      <td>6.5</td>\n",
       "      <td>[: 256 Go]</td>\n",
       "    </tr>\n",
       "    <tr>\n",
       "      <th>6</th>\n",
       "      <td>APPLE iPhone Xs Max Or 256 Go</td>\n",
       "      <td>1429.00</td>\n",
       "      <td>12 mégapixels</td>\n",
       "      <td>6.5</td>\n",
       "      <td>[: 256 Go]</td>\n",
       "    </tr>\n",
       "    <tr>\n",
       "      <th>7</th>\n",
       "      <td>APPLE iPhone Xs Max 512 Go Gris Sidéral</td>\n",
       "      <td>1499.99</td>\n",
       "      <td>12 mégapixels</td>\n",
       "      <td>6.5</td>\n",
       "      <td>[: 512 Go]</td>\n",
       "    </tr>\n",
       "    <tr>\n",
       "      <th>8</th>\n",
       "      <td>APPLE iPhone Xs Max Or 512 Go</td>\n",
       "      <td>1509.99</td>\n",
       "      <td>12 mégapixels</td>\n",
       "      <td>6.5</td>\n",
       "      <td>[: 512 Go]</td>\n",
       "    </tr>\n",
       "    <tr>\n",
       "      <th>9</th>\n",
       "      <td>APPLE iPhone Xs Max Gris Sidéral 256 Go</td>\n",
       "      <td>1419.00</td>\n",
       "      <td>12 mégapixels</td>\n",
       "      <td>6.5</td>\n",
       "      <td>[: 256 Go]</td>\n",
       "    </tr>\n",
       "    <tr>\n",
       "      <th>10</th>\n",
       "      <td>APPLE iPhone Xs Max Argent 512 Go</td>\n",
       "      <td>1509.99</td>\n",
       "      <td>12 mégapixels</td>\n",
       "      <td>6.5</td>\n",
       "      <td>[: 512 Go]</td>\n",
       "    </tr>\n",
       "    <tr>\n",
       "      <th>11</th>\n",
       "      <td>APPLE iPhone Xs Max Argent 256 Go</td>\n",
       "      <td>1419.00</td>\n",
       "      <td>12 mégapixels</td>\n",
       "      <td>6.5</td>\n",
       "      <td>[: 256 Go]</td>\n",
       "    </tr>\n",
       "    <tr>\n",
       "      <th>12</th>\n",
       "      <td>APPLE iPhone Xs Max Or 256 Go</td>\n",
       "      <td>1279.00</td>\n",
       "      <td>12 mégapixels</td>\n",
       "      <td>6.5</td>\n",
       "      <td>[: 256 Go]</td>\n",
       "    </tr>\n",
       "    <tr>\n",
       "      <th>13</th>\n",
       "      <td>APPLE iPhone Xs Max Gris Sidéral 64 Go</td>\n",
       "      <td>1086.90</td>\n",
       "      <td>12 mégapixels</td>\n",
       "      <td>6.5</td>\n",
       "      <td>[: 64 Go]</td>\n",
       "    </tr>\n",
       "    <tr>\n",
       "      <th>14</th>\n",
       "      <td>Apple iPhone XS Max 256 Go Gris</td>\n",
       "      <td>1269.00</td>\n",
       "      <td>12 mégapixels</td>\n",
       "      <td>6.5</td>\n",
       "      <td>[: 256 Go]</td>\n",
       "    </tr>\n",
       "  </tbody>\n",
       "</table>\n",
       "</div>"
      ],
      "text/plain": [
       "                                     models     prix résolution capteur  \\\n",
       "0         APPLE iPhone Xs Max Argent 512 Go  1509.99      12 mégapixels   \n",
       "1         APPLE iPhone Xs Max Argent 256 Go  1419.00      12 mégapixels   \n",
       "2    APPLE iPhone Xs Max Gris Sidéral 64 Go  1187.00      12 mégapixels   \n",
       "3          APPLE iPhone Xs Max Argent 64 Go  1186.00      12 mégapixels   \n",
       "4              APPLE iPhone Xs Max Or 64 Go  1199.00      12 mégapixels   \n",
       "5   APPLE iPhone Xs Max Gris Sidéral 256 Go  1121.67      12 mégapixels   \n",
       "6             APPLE iPhone Xs Max Or 256 Go  1429.00      12 mégapixels   \n",
       "7   APPLE iPhone Xs Max 512 Go Gris Sidéral  1499.99      12 mégapixels   \n",
       "8             APPLE iPhone Xs Max Or 512 Go  1509.99      12 mégapixels   \n",
       "9   APPLE iPhone Xs Max Gris Sidéral 256 Go  1419.00      12 mégapixels   \n",
       "10        APPLE iPhone Xs Max Argent 512 Go  1509.99      12 mégapixels   \n",
       "11        APPLE iPhone Xs Max Argent 256 Go  1419.00      12 mégapixels   \n",
       "12            APPLE iPhone Xs Max Or 256 Go  1279.00      12 mégapixels   \n",
       "13   APPLE iPhone Xs Max Gris Sidéral 64 Go  1086.90      12 mégapixels   \n",
       "14          Apple iPhone XS Max 256 Go Gris  1269.00      12 mégapixels   \n",
       "\n",
       "   taille de l'écran capacité de mémoire  \n",
       "0                6.5          [: 512 Go]  \n",
       "1                6.5          [: 256 Go]  \n",
       "2                6.5           [: 64 Go]  \n",
       "3                6.5           [: 64 Go]  \n",
       "4                6.5           [: 64 Go]  \n",
       "5                6.5          [: 256 Go]  \n",
       "6                6.5          [: 256 Go]  \n",
       "7                6.5          [: 512 Go]  \n",
       "8                6.5          [: 512 Go]  \n",
       "9                6.5          [: 256 Go]  \n",
       "10               6.5          [: 512 Go]  \n",
       "11               6.5          [: 256 Go]  \n",
       "12               6.5          [: 256 Go]  \n",
       "13               6.5           [: 64 Go]  \n",
       "14               6.5          [: 256 Go]  "
      ]
     },
     "execution_count": 129,
     "metadata": {},
     "output_type": "execute_result"
    }
   ],
   "source": [
    "df_iphone = pd.DataFrame({'models':model_iphone,'prix':prix_iphone,'résolution capteur':capteur_i,\n",
    "                   \"taille de l'écran\":ecran_i,'capacité de mémoire':memoire_i})\n",
    "df_iphone"
   ]
  },
  {
   "cell_type": "code",
   "execution_count": null,
   "metadata": {},
   "outputs": [],
   "source": []
  }
 ],
 "metadata": {
  "kernelspec": {
   "display_name": "Python 3",
   "language": "python",
   "name": "python3"
  },
  "language_info": {
   "codemirror_mode": {
    "name": "ipython",
    "version": 3
   },
   "file_extension": ".py",
   "mimetype": "text/x-python",
   "name": "python",
   "nbconvert_exporter": "python",
   "pygments_lexer": "ipython3",
   "version": "3.7.1"
  }
 },
 "nbformat": 4,
 "nbformat_minor": 2
}
